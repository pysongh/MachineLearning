{
 "cells": [
  {
   "cell_type": "code",
   "execution_count": 10,
   "metadata": {
    "collapsed": true
   },
   "outputs": [],
   "source": [
    "import numpy as np"
   ]
  },
  {
   "cell_type": "code",
   "execution_count": 11,
   "metadata": {
    "collapsed": true
   },
   "outputs": [],
   "source": [
    "# Sigmoid function\n",
    "def sigmoid(x, deriv=False):  \n",
    "    if(deriv==True):\n",
    "        return (x*(1-x))\n",
    "    \n",
    "    return 1/(1+np.exp(-x))"
   ]
  },
  {
   "cell_type": "code",
   "execution_count": 12,
   "metadata": {
    "collapsed": true
   },
   "outputs": [],
   "source": [
    "#input data, 4x3 -> 3x4\n",
    "x0 = np.array([[0,0,1],  \n",
    "            [0,1,1],\n",
    "            [1,0,1],\n",
    "            [1,1,1]]).T"
   ]
  },
  {
   "cell_type": "code",
   "execution_count": 13,
   "metadata": {
    "collapsed": true
   },
   "outputs": [],
   "source": [
    "#output data, 1x4\n",
    "y = np.array([[0,1,1,0]])"
   ]
  },
  {
   "cell_type": "code",
   "execution_count": 14,
   "metadata": {
    "collapsed": true
   },
   "outputs": [],
   "source": [
    "np.random.seed(1) # random seed between 0~1  "
   ]
  },
  {
   "cell_type": "code",
   "execution_count": 15,
   "metadata": {
    "collapsed": true
   },
   "outputs": [],
   "source": [
    "#synapses (weight)\n",
    "# syn1 : 4x3 matrix of weights ( 4 nodes x (2 inputs + 1 bias) nodes in the hidden layer)\n",
    "w1 = 2*np.random.random((4,3)) - 1 #(create matrix with random values between -1~1)\n",
    "# syn2 : 1x4 matrix of weights. (1 output x 4 nodes ) - no bias term in the hidden layer.\n",
    "w2 = 2*np.random.random((1,4)) - 1 #(create matrix with random values between -1~1)"
   ]
  },
  {
   "cell_type": "code",
   "execution_count": 16,
   "metadata": {},
   "outputs": [
    {
     "name": "stdout",
     "output_type": "stream",
     "text": [
      "syn1(w1) : [[-0.16595599  0.44064899 -0.99977125]\n",
      " [-0.39533485 -0.70648822 -0.81532281]\n",
      " [-0.62747958 -0.30887855 -0.20646505]\n",
      " [ 0.07763347 -0.16161097  0.370439  ]]\n",
      "syn2(w2) : [[-0.5910955   0.75623487 -0.94522481  0.34093502]]\n"
     ]
    }
   ],
   "source": [
    "print(\"syn1(w1) :\", w1)\n",
    "print(\"syn2(w2) :\", w2)"
   ]
  },
  {
   "cell_type": "code",
   "execution_count": 17,
   "metadata": {},
   "outputs": [
    {
     "name": "stdout",
     "output_type": "stream",
     "text": [
      "Error: 0.500620808426\n",
      "Error: 0.0147264544862\n",
      "Error: 0.00989516075228\n",
      "Error: 0.00790705635172\n",
      "Error: 0.00676094422549\n",
      "Error: 0.00599458763722\n",
      "Error: 0.00543683756555\n",
      "Error: 0.00500792429942\n",
      "Error: 0.00466505867747\n",
      "Error: 0.00438298219174\n",
      "Error: 0.00414570758813\n",
      "Error: 0.00394256274682\n",
      "Output after training\n",
      "[[ 0.00401752  0.99559115  0.9969237   0.00356192]]\n"
     ]
    }
   ],
   "source": [
    "#training step\n",
    "# Python2 Note: In the follow command, you may improve \n",
    "# performance by replacing 'range' with 'xrange'. \n",
    "for j in range(60000):  \n",
    "    \n",
    "    # Calculate forward through the network.\n",
    "    x1 = sigmoid(np.dot(w1,x0)) # size : 4x3 * 3x4 -> 4x4\n",
    "    x2 = sigmoid(np.dot(w2,x1)) # size : 1x4 * 4x4 -> 4x4  \n",
    "        \n",
    "    error = (y-x2)\n",
    "    # Back propagation of errors using the chain rule.\n",
    "    # update w2 (no learning rate term, learning rate = 1)\n",
    "    delta2 = (x2-y) * sigmoid(x2,deriv=True) # '*' operator for element wise product, 4x1   \n",
    "    dc_dw2 = delta2.dot(x1.T) #1x4 * 4x4 => 1x4, same as weight 2\n",
    "    w2 = w2 - dc_dw2 #1x4\n",
    "   \n",
    "    # update w1\n",
    "    delta1 = w2.T.dot(delta2) * sigmoid(x1,deriv=True) #4x1 * 1x4 => 4x4 \n",
    "    dc_dw1 = delta1.dot(x0.T) # 3x4 * 4x4 => 3x4\n",
    "    w1 = w1 - dc_dw1 #3x4 \n",
    "    \n",
    "    if(j % 5000) == 0:   # Only print the error every 10000 steps, to save time and limit the amount of output. \n",
    "        print(\"Error: \" + str(np.mean(np.abs(error))))\n",
    "            \n",
    "print(\"Output after training\")\n",
    "print(x2)"
   ]
  },
  {
   "cell_type": "code",
   "execution_count": 18,
   "metadata": {},
   "outputs": [
    {
     "name": "stdout",
     "output_type": "stream",
     "text": [
      "[[ 4.49894327  3.75410949 -6.43595796]\n",
      " [ 1.86775389 -2.81265121 -1.43409794]\n",
      " [-6.73016394 -7.21254635  3.06366556]\n",
      " [-3.91777283 -3.10928116  5.53211706]]\n",
      "[[ -8.22581078   2.62827145 -13.22711053   6.65726387]]\n"
     ]
    }
   ],
   "source": [
    "print(w1)\n",
    "print(w2)"
   ]
  },
  {
   "cell_type": "code",
   "execution_count": null,
   "metadata": {
    "collapsed": true
   },
   "outputs": [],
   "source": []
  }
 ],
 "metadata": {
  "kernelspec": {
   "display_name": "Python 3",
   "language": "python",
   "name": "python3"
  },
  "language_info": {
   "codemirror_mode": {
    "name": "ipython",
    "version": 3
   },
   "file_extension": ".py",
   "mimetype": "text/x-python",
   "name": "python",
   "nbconvert_exporter": "python",
   "pygments_lexer": "ipython3",
   "version": "3.6.1"
  }
 },
 "nbformat": 4,
 "nbformat_minor": 1
}
